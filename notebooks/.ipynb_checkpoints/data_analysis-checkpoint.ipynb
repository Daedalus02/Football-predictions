{
 "cells": [
  {
   "cell_type": "markdown",
   "id": "edd02ff5-385b-4700-bdba-17125c3d12ec",
   "metadata": {},
   "source": [
    "# Data analysis \n",
    "This code is used to analize the data obtained from scraping online websites, which is already cleaned by \n",
    "the cleaning jupyter notebook. "
   ]
  },
  {
   "cell_type": "code",
   "execution_count": null,
   "id": "d8bc4e5d-b2f2-48c6-bf03-42b3d383f313",
   "metadata": {},
   "outputs": [],
   "source": []
  }
 ],
 "metadata": {
  "kernelspec": {
   "display_name": "Python 3 (ipykernel)",
   "language": "python",
   "name": "python3"
  },
  "language_info": {
   "codemirror_mode": {
    "name": "ipython",
    "version": 3
   },
   "file_extension": ".py",
   "mimetype": "text/x-python",
   "name": "python",
   "nbconvert_exporter": "python",
   "pygments_lexer": "ipython3",
   "version": "3.12.6"
  }
 },
 "nbformat": 4,
 "nbformat_minor": 5
}
